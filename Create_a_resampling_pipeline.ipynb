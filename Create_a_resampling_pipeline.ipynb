{
  "nbformat": 4,
  "nbformat_minor": 0,
  "metadata": {
    "colab": {
      "name": "Create a resampling pipeline.ipynb",
      "provenance": [],
      "authorship_tag": "ABX9TyMscwdmXnCGTwMwI1xgUXx+",
      "include_colab_link": true
    },
    "kernelspec": {
      "name": "python3",
      "display_name": "Python 3"
    }
  },
  "cells": [
    {
      "cell_type": "markdown",
      "metadata": {
        "id": "view-in-github",
        "colab_type": "text"
      },
      "source": [
        "<a href=\"https://colab.research.google.com/github/Llannelongue/teaching_Cambridge/blob/main/Create_a_resampling_pipeline.ipynb\" target=\"_parent\"><img src=\"https://colab.research.google.com/assets/colab-badge.svg\" alt=\"Open In Colab\"/></a>"
      ]
    },
    {
      "cell_type": "markdown",
      "metadata": {
        "id": "EjWcXVqgcDji"
      },
      "source": [
        "The goal here is to have some generalisable code that we could, if we wanted to, use in a variety of projects using parametric and non-parametric sampling. \n",
        "\n",
        "_Contributors (listed alphabetically): Aidan Brocklebank, Ilja Caikovskis, Jamie Cao, Isaac Dixon, Olivia Hayward, Matthew Keenan, Nav Leelarathna, Jano Letovanec, Kwing Hei Li, Amaar Patel, Gabor Pituk, Aravind Prabhakaran, Keshav Sivakumar, Andru Stefanescu, Peter Zhang_"
      ]
    },
    {
      "cell_type": "code",
      "metadata": {
        "id": "U4n_2nsDUWkt"
      },
      "source": [
        "import numpy as np\n",
        "\n",
        "import matplotlib.pyplot as plt\n",
        "import seaborn as sns\n",
        "\n",
        "%matplotlib inline"
      ],
      "execution_count": null,
      "outputs": []
    },
    {
      "cell_type": "code",
      "metadata": {
        "id": "A68EY_sGbG9O"
      },
      "source": [
        "class sampling_parent():\n",
        "  def __init__(self):\n",
        "    pass\n",
        "\n",
        "  def set_statistic(self, stat_fun):\n",
        "    self.stat_fun = stat_fun\n",
        "\n",
        "  def generate_sample(self, list_kwargs):\n",
        "    '''\n",
        "    list_kwargs: list(dict(param:value))\n",
        "    '''\n",
        "    return [self.distribution(**kwargs) for kwargs in list_kwargs]\n",
        "\n",
        "  def simulate_statistics(self, n_samples, list_kwargs):\n",
        "    return [self.stat_fun(*self.generate_sample(list_kwargs)) for _ in range(n_samples)]\n",
        "\n",
        "  def CI(self, sample, low, high):\n",
        "    return np.quantile(sample, (low,high))\n",
        "\n",
        "  def simulate_and_CI(self, n_samples, list_kwargs, low, high, doPlot=True):\n",
        "    sample_stats = self.simulate_statistics(\n",
        "        n_samples=n_samples,\n",
        "        list_kwargs=list_kwargs\n",
        "    )\n",
        "\n",
        "    if doPlot:\n",
        "      sns.distplot(sample_stats)\n",
        "\n",
        "    CI = self.CI(sample_stats, low=low, high=high)\n",
        "\n",
        "    return CI"
      ],
      "execution_count": null,
      "outputs": []
    },
    {
      "cell_type": "code",
      "metadata": {
        "id": "EahkdazpU8rt"
      },
      "source": [
        "class parametric_sampling(sampling_parent):\n",
        "  def __init__(self, distribution):\n",
        "    super().__init__()\n",
        "    self.distribution = distribution\n",
        "  "
      ],
      "execution_count": null,
      "outputs": []
    },
    {
      "cell_type": "code",
      "metadata": {
        "id": "J5xxDgE1bfiN"
      },
      "source": [
        "class nonparametric_sampling(sampling_parent):\n",
        "  def __init__(self, data):\n",
        "    super().__init__()\n",
        "    self.data = data\n",
        "\n",
        "  def distribution(self):\n",
        "    return np.random.choice(self.data, size=len(self.data))"
      ],
      "execution_count": null,
      "outputs": []
    },
    {
      "cell_type": "markdown",
      "metadata": {
        "id": "zRFamA1ucJYa"
      },
      "source": [
        "# Question 1"
      ]
    },
    {
      "cell_type": "code",
      "metadata": {
        "id": "qcv1R7eJcLSj"
      },
      "source": [
        "np.random.seed(666)\n",
        "\n",
        "# data\n",
        "n = 50\n",
        "x = np.random.normal(loc=2.3, scale = 0.6, size = n)\n",
        "\n",
        "# MLE\n",
        "MLE_sigma = np.std(x)"
      ],
      "execution_count": null,
      "outputs": []
    },
    {
      "cell_type": "code",
      "metadata": {
        "colab": {
          "base_uri": "https://localhost:8080/",
          "height": 336
        },
        "id": "hfRrfCkzcLc4",
        "outputId": "8926e9ef-c75e-4c09-9606-730c24d909ae"
      },
      "source": [
        "def Q1_b(doPlot=True):\n",
        "  np.random.seed(42)\n",
        "  \n",
        "  sampler = parametric_sampling(distribution=np.random.normal)\n",
        "\n",
        "  sampler.set_statistic(lambda x:np.std(x))\n",
        "\n",
        "  CI = sampler.simulate_and_CI(\n",
        "      n_samples=int(1e4), \n",
        "      list_kwargs = [\n",
        "                    dict(loc=np.mean(x), scale=MLE_sigma, size=len(x))\n",
        "      ],\n",
        "      low = 0.025,\n",
        "      high = 0.975,\n",
        "      doPlot=doPlot\n",
        "  )\n",
        "\n",
        "  return CI\n",
        "\n",
        "Q1_b()"
      ],
      "execution_count": null,
      "outputs": [
        {
          "output_type": "stream",
          "text": [
            "/usr/local/lib/python3.6/dist-packages/seaborn/distributions.py:2551: FutureWarning: `distplot` is a deprecated function and will be removed in a future version. Please adapt your code to use either `displot` (a figure-level function with similar flexibility) or `histplot` (an axes-level function for histograms).\n",
            "  warnings.warn(msg, FutureWarning)\n"
          ],
          "name": "stderr"
        },
        {
          "output_type": "execute_result",
          "data": {
            "text/plain": [
              "array([0.38315762, 0.5721008 ])"
            ]
          },
          "metadata": {
            "tags": []
          },
          "execution_count": 9
        },
        {
          "output_type": "display_data",
          "data": {
            "image/png": "[encoded data removed]",
            "text/plain": [
              "<Figure size 432x288 with 1 Axes>"
            ]
          },
          "metadata": {
            "tags": [],
            "needs_background": "light"
          }
        }
      ]
    },
    {
      "cell_type": "code",
      "metadata": {
        "colab": {
          "base_uri": "https://localhost:8080/",
          "height": 336
        },
        "id": "x5foLPtrcV3x",
        "outputId": "a676b4de-608f-48fc-9dae-d24dafabdcbb"
      },
      "source": [
        "def Q1_c(doPlot=True):\n",
        "  np.random.seed(42)\n",
        "  \n",
        "  sampler = nonparametric_sampling(data=x)\n",
        "\n",
        "  sampler.set_statistic(lambda x:np.std(x))\n",
        "\n",
        "  CI = sampler.simulate_and_CI(\n",
        "      n_samples=int(1e4), \n",
        "      list_kwargs = [dict()],\n",
        "      low = 0.025,\n",
        "      high = 0.975,\n",
        "      doPlot=doPlot\n",
        "  )\n",
        "\n",
        "  return CI\n",
        "\n",
        "Q1_c()"
      ],
      "execution_count": null,
      "outputs": [
        {
          "output_type": "stream",
          "text": [
            "/usr/local/lib/python3.6/dist-packages/seaborn/distributions.py:2551: FutureWarning: `distplot` is a deprecated function and will be removed in a future version. Please adapt your code to use either `displot` (a figure-level function with similar flexibility) or `histplot` (an axes-level function for histograms).\n",
            "  warnings.warn(msg, FutureWarning)\n"
          ],
          "name": "stderr"
        },
        {
          "output_type": "execute_result",
          "data": {
            "text/plain": [
              "array([0.3991721 , 0.55261495])"
            ]
          },
          "metadata": {
            "tags": []
          },
          "execution_count": 10
        },
        {
          "output_type": "display_data",
          "data": {
            "image/png": "[encoded data removed]",
            "text/plain": [
              "<Figure size 432x288 with 1 Axes>"
            ]
          },
          "metadata": {
            "tags": [],
            "needs_background": "light"
          }
        }
      ]
    },
    {
      "cell_type": "markdown",
      "metadata": {
        "id": "LM2LR6ynVAZk"
      },
      "source": [
        "# Question 2"
      ]
    },
    {
      "cell_type": "code",
      "metadata": {
        "id": "XHXG1ZZ2VEG1"
      },
      "source": [
        "# data\n",
        "\n",
        "x = [3,1,5]\n",
        "y = [2,3]\n",
        "\n",
        "z = x+y"
      ],
      "execution_count": null,
      "outputs": []
    },
    {
      "cell_type": "code",
      "metadata": {
        "colab": {
          "base_uri": "https://localhost:8080/"
        },
        "id": "GoWfc4PuVgnO",
        "outputId": "378d3414-cce2-43d1-efef-947025570e97"
      },
      "source": [
        "# Estimate parameters\n",
        "MLE_x = np.mean(x)\n",
        "MLE_y = np.mean(y)\n",
        "\n",
        "MLE_z = np.mean(z)\n",
        "\n",
        "print(MLE_x,MLE_y,MLE_z)"
      ],
      "execution_count": null,
      "outputs": [
        {
          "output_type": "stream",
          "text": [
            "3.0 2.5 2.8\n"
          ],
          "name": "stdout"
        }
      ]
    },
    {
      "cell_type": "code",
      "metadata": {
        "colab": {
          "base_uri": "https://localhost:8080/",
          "height": 336
        },
        "id": "CAHo_k8AVSSF",
        "outputId": "86f0b6df-66ca-477a-c636-8390b67b18eb"
      },
      "source": [
        "def Q2_a(doPlot=True):\n",
        "  np.random.seed(42)\n",
        "  \n",
        "  sampler = parametric_sampling(\n",
        "      distribution = np.random.poisson,\n",
        "  )\n",
        "\n",
        "  sampler.set_statistic(lambda x,y:np.mean(y)-np.mean(x))\n",
        "\n",
        "  CI = sampler.simulate_and_CI(\n",
        "      n_samples=int(1e4), \n",
        "      list_kwargs=[\n",
        "                   dict(lam=MLE_x,size=len(x)),\n",
        "                   dict(lam=MLE_y,size=len(y))\n",
        "      ], \n",
        "      low=0.025, \n",
        "      high=0.975, \n",
        "      doPlot=doPlot\n",
        "  )\n",
        "\n",
        "  return CI \n",
        "\n",
        "print(Q2_a())"
      ],
      "execution_count": null,
      "outputs": [
        {
          "output_type": "stream",
          "text": [
            "/usr/local/lib/python3.6/dist-packages/seaborn/distributions.py:2551: FutureWarning: `distplot` is a deprecated function and will be removed in a future version. Please adapt your code to use either `displot` (a figure-level function with similar flexibility) or `histplot` (an axes-level function for histograms).\n",
            "  warnings.warn(msg, FutureWarning)\n"
          ],
          "name": "stderr"
        },
        {
          "output_type": "stream",
          "text": [
            "[-3.33333333  2.5       ]\n"
          ],
          "name": "stdout"
        },
        {
          "output_type": "display_data",
          "data": {
            "image/png": "[encoded data removed]",
            "text/plain": [
              "<Figure size 432x288 with 1 Axes>"
            ]
          },
          "metadata": {
            "tags": [],
            "needs_background": "light"
          }
        }
      ]
    },
    {
      "cell_type": "code",
      "metadata": {
        "colab": {
          "base_uri": "https://localhost:8080/"
        },
        "id": "5R3dnrtmYx-Y",
        "outputId": "0d918c32-65f2-4f79-bda9-357a4c721b78"
      },
      "source": [
        "# Sanity checks\n",
        "\n",
        "def code_lectures_Q2a():\n",
        "  np.random.seed(42)\n",
        "\n",
        "  x = [3,1,5]\n",
        "  y = [2,3]\n",
        "\n",
        "  def t(x,y): \n",
        "    return np.mean(y) - np.mean(x)\n",
        "  def rxy():\n",
        "    return (np.random.poisson(np.mean(x), size=len(x)), np.random.poisson(np.mean(y), size=len(y)))\n",
        "\n",
        "  t_ = np.array([t(*rxy()) for _ in range(10000)])\n",
        "  lo,hi = np.quantile(t_, [.025,.975])\n",
        "\n",
        "  return(lo,hi)\n",
        "\n",
        "print(code_lectures_Q2a())\n",
        "print(Q2_a(doPlot=False))\n",
        "\n",
        "assert (abs(np.array(code_lectures_Q2a() - np.array(Q2_a(doPlot=False)))) < 1e-5).all()"
      ],
      "execution_count": null,
      "outputs": [
        {
          "output_type": "stream",
          "text": [
            "(-3.3333333333333335, 2.5)\n",
            "[-3.33333333  2.5       ]\n"
          ],
          "name": "stdout"
        }
      ]
    },
    {
      "cell_type": "code",
      "metadata": {
        "id": "-hRkiYC2aeDR"
      },
      "source": [
        ""
      ],
      "execution_count": null,
      "outputs": []
    }
  ]
}